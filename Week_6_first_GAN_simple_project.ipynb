{
  "nbformat": 4,
  "nbformat_minor": 0,
  "metadata": {
    "colab": {
      "provenance": [],
      "authorship_tag": "ABX9TyM6dGSZdOeWfm1cTgvVcPbX",
      "include_colab_link": true
    },
    "kernelspec": {
      "name": "python3",
      "display_name": "Python 3"
    },
    "language_info": {
      "name": "python"
    }
  },
  "cells": [
    {
      "cell_type": "markdown",
      "metadata": {
        "id": "view-in-github",
        "colab_type": "text"
      },
      "source": [
        "<a href=\"https://colab.research.google.com/github/imanurag2311/Season_of_AI/blob/main/Week_6_first_GAN_simple_project.ipynb\" target=\"_parent\"><img src=\"https://colab.research.google.com/assets/colab-badge.svg\" alt=\"Open In Colab\"/></a>"
      ]
    },
    {
      "cell_type": "markdown",
      "source": [
        "# **Setup & Importing libraries**"
      ],
      "metadata": {
        "id": "io4W5u9ylGWN"
      }
    },
    {
      "cell_type": "code",
      "execution_count": null,
      "metadata": {
        "colab": {
          "base_uri": "https://localhost:8080/"
        },
        "id": "i_yuT-WqlBaY",
        "outputId": "cebbba84-a135-48ac-b73a-5da0c5493dcd"
      },
      "outputs": [
        {
          "output_type": "stream",
          "name": "stdout",
          "text": [
            "Requirement already satisfied: torch in /usr/local/lib/python3.10/dist-packages (2.5.0+cu121)\n",
            "Requirement already satisfied: torchvision in /usr/local/lib/python3.10/dist-packages (0.20.0+cu121)\n",
            "Requirement already satisfied: tensorboard in /usr/local/lib/python3.10/dist-packages (2.17.0)\n",
            "Requirement already satisfied: filelock in /usr/local/lib/python3.10/dist-packages (from torch) (3.16.1)\n",
            "Requirement already satisfied: typing-extensions>=4.8.0 in /usr/local/lib/python3.10/dist-packages (from torch) (4.12.2)\n",
            "Requirement already satisfied: networkx in /usr/local/lib/python3.10/dist-packages (from torch) (3.4.2)\n",
            "Requirement already satisfied: jinja2 in /usr/local/lib/python3.10/dist-packages (from torch) (3.1.4)\n",
            "Requirement already satisfied: fsspec in /usr/local/lib/python3.10/dist-packages (from torch) (2024.6.1)\n",
            "Requirement already satisfied: sympy==1.13.1 in /usr/local/lib/python3.10/dist-packages (from torch) (1.13.1)\n",
            "Requirement already satisfied: mpmath<1.4,>=1.1.0 in /usr/local/lib/python3.10/dist-packages (from sympy==1.13.1->torch) (1.3.0)\n",
            "Requirement already satisfied: numpy in /usr/local/lib/python3.10/dist-packages (from torchvision) (1.26.4)\n",
            "Requirement already satisfied: pillow!=8.3.*,>=5.3.0 in /usr/local/lib/python3.10/dist-packages (from torchvision) (10.4.0)\n",
            "Requirement already satisfied: absl-py>=0.4 in /usr/local/lib/python3.10/dist-packages (from tensorboard) (1.4.0)\n",
            "Requirement already satisfied: grpcio>=1.48.2 in /usr/local/lib/python3.10/dist-packages (from tensorboard) (1.64.1)\n",
            "Requirement already satisfied: markdown>=2.6.8 in /usr/local/lib/python3.10/dist-packages (from tensorboard) (3.7)\n",
            "Requirement already satisfied: protobuf!=4.24.0,<5.0.0,>=3.19.6 in /usr/local/lib/python3.10/dist-packages (from tensorboard) (3.20.3)\n",
            "Requirement already satisfied: setuptools>=41.0.0 in /usr/local/lib/python3.10/dist-packages (from tensorboard) (75.1.0)\n",
            "Requirement already satisfied: six>1.9 in /usr/local/lib/python3.10/dist-packages (from tensorboard) (1.16.0)\n",
            "Requirement already satisfied: tensorboard-data-server<0.8.0,>=0.7.0 in /usr/local/lib/python3.10/dist-packages (from tensorboard) (0.7.2)\n",
            "Requirement already satisfied: werkzeug>=1.0.1 in /usr/local/lib/python3.10/dist-packages (from tensorboard) (3.0.4)\n",
            "Requirement already satisfied: MarkupSafe>=2.1.1 in /usr/local/lib/python3.10/dist-packages (from werkzeug>=1.0.1->tensorboard) (3.0.2)\n"
          ]
        }
      ],
      "source": [
        "# Install necessary libraries if not installed\n",
        "!pip install torch torchvision tensorboard"
      ]
    },
    {
      "cell_type": "code",
      "source": [
        "# Importing libraries\n",
        "import torch\n",
        "import torch.nn as nn\n",
        "import torch.optim as optim\n",
        "import torchvision\n",
        "import torchvision.datasets as datasets\n",
        "from torch.utils.data import DataLoader\n",
        "import torchvision.transforms as transforms\n",
        "from torch.utils.tensorboard import SummaryWriter\n",
        "# to print to tensorboard"
      ],
      "metadata": {
        "id": "c5MmHuXQlPsi"
      },
      "execution_count": null,
      "outputs": []
    },
    {
      "cell_type": "markdown",
      "source": [
        "# **Defining the Discriminator Classes**"
      ],
      "metadata": {
        "id": "zxi2KBChlUer"
      }
    },
    {
      "cell_type": "code",
      "source": [
        "# Define Discriminator\n",
        "class Discriminator(nn.Module):\n",
        "    def __init__(self, in_features):\n",
        "        super().__init__()\n",
        "        self.disc = nn.Sequential(\n",
        "            nn.Linear(in_features, 128),\n",
        "            nn.LeakyReLU(0.01),\n",
        "            nn.Linear(128, 1),\n",
        "            nn.Sigmoid(),\n",
        "        )\n",
        "\n",
        "    def forward(self, x):\n",
        "        return self.disc(x)\n"
      ],
      "metadata": {
        "id": "ljKh5EWDlWTS"
      },
      "execution_count": null,
      "outputs": []
    },
    {
      "cell_type": "markdown",
      "source": [
        "# **Define The Generator Class**"
      ],
      "metadata": {
        "id": "FvjQ3YGQlZW5"
      }
    },
    {
      "cell_type": "code",
      "source": [
        "# Define Generator\n",
        "class Generator(nn.Module):\n",
        "    def __init__(self, z_dim, img_dim):\n",
        "        super().__init__()\n",
        "        self.gen = nn.Sequential(\n",
        "            nn.Linear(z_dim, 256),\n",
        "            nn.LeakyReLU(0.01),\n",
        "            nn.Linear(256, img_dim),\n",
        "            nn.Tanh(),  # normalize outputs to [-1, 1]\n",
        "        )\n",
        "\n",
        "    def forward(self, x):\n",
        "        return self.gen(x)"
      ],
      "metadata": {
        "id": "ud6C8PPIlckJ"
      },
      "execution_count": null,
      "outputs": []
    },
    {
      "cell_type": "markdown",
      "source": [
        "# **Setting Hyperparameters**"
      ],
      "metadata": {
        "id": "_r3FhQh-lftC"
      }
    },
    {
      "cell_type": "code",
      "source": [
        "# Hyperparameters\n",
        "device = \"cuda\" if torch.cuda.is_available() else \"cpu\"\n",
        "lr = 3e-4\n",
        "z_dim = 64\n",
        "image_dim = 28 * 28  # 784 for flattened 28x28 MNIST images\n",
        "batch_size = 32\n",
        "num_epochs = 50"
      ],
      "metadata": {
        "id": "05946LjhlmGu"
      },
      "execution_count": null,
      "outputs": []
    },
    {
      "cell_type": "markdown",
      "source": [
        "# **Initialization of models**"
      ],
      "metadata": {
        "id": "dnYWk2nTmStb"
      }
    },
    {
      "cell_type": "code",
      "source": [
        "# Initialize models and optimizers\n",
        "disc = Discriminator(image_dim).to(device)\n",
        "gen = Generator(z_dim, image_dim).to(device)\n",
        "fixed_noise = torch.randn((batch_size, z_dim)).to(device)\n",
        "\n",
        "\n",
        "# Optimizers\n",
        "opt_disc = optim.Adam(disc.parameters(), lr=lr)\n",
        "opt_gen = optim.Adam(gen.parameters(), lr=lr)\n",
        "\n",
        "\n",
        "# Loss function\n",
        "criterion = nn.BCELoss()"
      ],
      "metadata": {
        "id": "Dn2m9EB7myjT"
      },
      "execution_count": null,
      "outputs": []
    },
    {
      "cell_type": "markdown",
      "source": [
        "# **Data Loading and Preprocessing**"
      ],
      "metadata": {
        "id": "boWFBw93m1Gu"
      }
    },
    {
      "cell_type": "code",
      "source": [
        "# Load MNIST dataset\n",
        "transform = transforms.Compose([\n",
        "    transforms.ToTensor(),\n",
        "    transforms.Normalize((0.5,), (0.5,)),\n",
        "])\n",
        "\n",
        "dataset = datasets.MNIST(root=\"dataset/\", transform=transform, download=True)\n",
        "loader = DataLoader(dataset, batch_size=batch_size, shuffle=True)\n"
      ],
      "metadata": {
        "colab": {
          "base_uri": "https://localhost:8080/"
        },
        "id": "WcmAGptFm4KC",
        "outputId": "7b827818-535a-4412-9b53-70d9cb31e632"
      },
      "execution_count": null,
      "outputs": [
        {
          "output_type": "stream",
          "name": "stdout",
          "text": [
            "Downloading http://yann.lecun.com/exdb/mnist/train-images-idx3-ubyte.gz\n",
            "Failed to download (trying next):\n",
            "<urlopen error [SSL: CERTIFICATE_VERIFY_FAILED] certificate verify failed: certificate has expired (_ssl.c:1007)>\n",
            "\n",
            "Downloading https://ossci-datasets.s3.amazonaws.com/mnist/train-images-idx3-ubyte.gz\n",
            "Downloading https://ossci-datasets.s3.amazonaws.com/mnist/train-images-idx3-ubyte.gz to dataset/MNIST/raw/train-images-idx3-ubyte.gz\n"
          ]
        },
        {
          "output_type": "stream",
          "name": "stderr",
          "text": [
            "100%|██████████| 9.91M/9.91M [00:00<00:00, 38.2MB/s]\n"
          ]
        },
        {
          "output_type": "stream",
          "name": "stdout",
          "text": [
            "Extracting dataset/MNIST/raw/train-images-idx3-ubyte.gz to dataset/MNIST/raw\n",
            "\n",
            "Downloading http://yann.lecun.com/exdb/mnist/train-labels-idx1-ubyte.gz\n",
            "Failed to download (trying next):\n",
            "<urlopen error [SSL: CERTIFICATE_VERIFY_FAILED] certificate verify failed: certificate has expired (_ssl.c:1007)>\n",
            "\n",
            "Downloading https://ossci-datasets.s3.amazonaws.com/mnist/train-labels-idx1-ubyte.gz\n",
            "Downloading https://ossci-datasets.s3.amazonaws.com/mnist/train-labels-idx1-ubyte.gz to dataset/MNIST/raw/train-labels-idx1-ubyte.gz\n"
          ]
        },
        {
          "output_type": "stream",
          "name": "stderr",
          "text": [
            "100%|██████████| 28.9k/28.9k [00:00<00:00, 1.26MB/s]"
          ]
        },
        {
          "output_type": "stream",
          "name": "stdout",
          "text": [
            "Extracting dataset/MNIST/raw/train-labels-idx1-ubyte.gz to dataset/MNIST/raw\n",
            "\n",
            "Downloading http://yann.lecun.com/exdb/mnist/t10k-images-idx3-ubyte.gz\n"
          ]
        },
        {
          "output_type": "stream",
          "name": "stderr",
          "text": [
            "\n"
          ]
        },
        {
          "output_type": "stream",
          "name": "stdout",
          "text": [
            "Failed to download (trying next):\n",
            "<urlopen error [SSL: CERTIFICATE_VERIFY_FAILED] certificate verify failed: certificate has expired (_ssl.c:1007)>\n",
            "\n",
            "Downloading https://ossci-datasets.s3.amazonaws.com/mnist/t10k-images-idx3-ubyte.gz\n",
            "Downloading https://ossci-datasets.s3.amazonaws.com/mnist/t10k-images-idx3-ubyte.gz to dataset/MNIST/raw/t10k-images-idx3-ubyte.gz\n"
          ]
        },
        {
          "output_type": "stream",
          "name": "stderr",
          "text": [
            "100%|██████████| 1.65M/1.65M [00:00<00:00, 9.60MB/s]\n"
          ]
        },
        {
          "output_type": "stream",
          "name": "stdout",
          "text": [
            "Extracting dataset/MNIST/raw/t10k-images-idx3-ubyte.gz to dataset/MNIST/raw\n",
            "\n",
            "Downloading http://yann.lecun.com/exdb/mnist/t10k-labels-idx1-ubyte.gz\n",
            "Failed to download (trying next):\n",
            "<urlopen error [SSL: CERTIFICATE_VERIFY_FAILED] certificate verify failed: certificate has expired (_ssl.c:1007)>\n",
            "\n",
            "Downloading https://ossci-datasets.s3.amazonaws.com/mnist/t10k-labels-idx1-ubyte.gz\n",
            "Downloading https://ossci-datasets.s3.amazonaws.com/mnist/t10k-labels-idx1-ubyte.gz to dataset/MNIST/raw/t10k-labels-idx1-ubyte.gz\n"
          ]
        },
        {
          "output_type": "stream",
          "name": "stderr",
          "text": [
            "100%|██████████| 4.54k/4.54k [00:00<00:00, 11.6MB/s]"
          ]
        },
        {
          "output_type": "stream",
          "name": "stdout",
          "text": [
            "Extracting dataset/MNIST/raw/t10k-labels-idx1-ubyte.gz to dataset/MNIST/raw\n",
            "\n"
          ]
        },
        {
          "output_type": "stream",
          "name": "stderr",
          "text": [
            "\n"
          ]
        }
      ]
    },
    {
      "cell_type": "markdown",
      "source": [
        "# **Training Loop**"
      ],
      "metadata": {
        "id": "e9NxV5eQm8AZ"
      }
    },
    {
      "cell_type": "code",
      "source": [
        "# Set up TensorBoard for visualization\n",
        "writer_fake = SummaryWriter(f\"logs/fake\")\n",
        "writer_real = SummaryWriter(f\"logs/real\")\n",
        "step = 0\n",
        "\n",
        "\n",
        "# Training Loop\n",
        "for epoch in range(num_epochs):\n",
        "    for batch_idx, (real, _) in enumerate(loader):\n",
        "        real = real.view(-1, 784).to(device)\n",
        "        batch_size = real.shape[0]\n",
        "\n",
        "\n",
        "        ### Train Discriminator\n",
        "        noise = torch.randn(batch_size, z_dim).to(device)\n",
        "        fake = gen(noise)\n",
        "        disc_real = disc(real).view(-1)\n",
        "        lossD_real = criterion(disc_real, torch.ones_like(disc_real))\n",
        "        disc_fake = disc(fake).view(-1)\n",
        "        lossD_fake = criterion(disc_fake, torch.zeros_like(disc_fake))\n",
        "        lossD = (lossD_real + lossD_fake) / 2\n",
        "        disc.zero_grad()\n",
        "        lossD.backward(retain_graph=True)\n",
        "        opt_disc.step()\n",
        "\n",
        "\n",
        "        ### Train Generator\n",
        "        output = disc(fake).view(-1)\n",
        "        lossG = criterion(output, torch.ones_like(output))\n",
        "        gen.zero_grad()\n",
        "        lossG.backward()\n",
        "        opt_gen.step()\n",
        "\n",
        "\n",
        "        # Print and log progress\n",
        "        if batch_idx == 0:\n",
        "            print(\n",
        "                f\"Epoch [{epoch}/{num_epochs}] Batch {batch_idx}/{len(loader)} \\\n",
        "                      Loss D: {lossD:.4f}, loss G: {lossG:.4f}\"\n",
        "            )\n",
        "\n",
        "\n",
        "            # Log images to TensorBoard\n",
        "            with torch.no_grad():\n",
        "                fake = gen(fixed_noise).reshape(-1, 1, 28, 28)\n",
        "                data = real.reshape(-1, 1, 28, 28)\n",
        "                img_grid_fake = torchvision.utils.make_grid(fake, normalize=True)\n",
        "                img_grid_real = torchvision.utils.make_grid(data, normalize=True)\n",
        "\n",
        "                writer_fake.add_image(\"Mnist Fake Images\", img_grid_fake, global_step=step)\n",
        "                writer_real.add_image(\"Mnist Real Images\", img_grid_real, global_step=step)\n",
        "                step += 1\n"
      ],
      "metadata": {
        "colab": {
          "base_uri": "https://localhost:8080/"
        },
        "id": "SQlYwIEfm9PU",
        "outputId": "a2b02950-c790-4948-f7c9-7cd8c6b0b716"
      },
      "execution_count": 10,
      "outputs": [
        {
          "output_type": "stream",
          "name": "stdout",
          "text": [
            "Epoch [0/50] Batch 0/1875                       Loss D: 0.6835, loss G: 0.9058\n",
            "Epoch [1/50] Batch 0/1875                       Loss D: 0.6426, loss G: 1.2775\n",
            "Epoch [2/50] Batch 0/1875                       Loss D: 0.5720, loss G: 1.3895\n",
            "Epoch [3/50] Batch 0/1875                       Loss D: 0.4935, loss G: 1.2404\n",
            "Epoch [4/50] Batch 0/1875                       Loss D: 0.4857, loss G: 1.0658\n",
            "Epoch [5/50] Batch 0/1875                       Loss D: 0.6710, loss G: 0.9798\n",
            "Epoch [6/50] Batch 0/1875                       Loss D: 0.6849, loss G: 0.9755\n",
            "Epoch [7/50] Batch 0/1875                       Loss D: 0.6172, loss G: 0.8694\n",
            "Epoch [8/50] Batch 0/1875                       Loss D: 0.4951, loss G: 1.3441\n",
            "Epoch [9/50] Batch 0/1875                       Loss D: 0.6666, loss G: 0.9997\n",
            "Epoch [10/50] Batch 0/1875                       Loss D: 0.7536, loss G: 0.6442\n",
            "Epoch [11/50] Batch 0/1875                       Loss D: 0.5310, loss G: 1.0697\n",
            "Epoch [12/50] Batch 0/1875                       Loss D: 0.6761, loss G: 0.8779\n",
            "Epoch [13/50] Batch 0/1875                       Loss D: 0.5207, loss G: 0.9254\n",
            "Epoch [14/50] Batch 0/1875                       Loss D: 0.5507, loss G: 0.9352\n",
            "Epoch [15/50] Batch 0/1875                       Loss D: 0.5930, loss G: 1.2441\n",
            "Epoch [16/50] Batch 0/1875                       Loss D: 0.7061, loss G: 0.8383\n",
            "Epoch [17/50] Batch 0/1875                       Loss D: 0.6169, loss G: 1.0454\n",
            "Epoch [18/50] Batch 0/1875                       Loss D: 0.6136, loss G: 1.1946\n",
            "Epoch [19/50] Batch 0/1875                       Loss D: 0.6260, loss G: 0.9811\n",
            "Epoch [20/50] Batch 0/1875                       Loss D: 0.7053, loss G: 0.9573\n",
            "Epoch [21/50] Batch 0/1875                       Loss D: 0.6955, loss G: 1.0780\n",
            "Epoch [22/50] Batch 0/1875                       Loss D: 0.6363, loss G: 0.7765\n",
            "Epoch [23/50] Batch 0/1875                       Loss D: 0.6274, loss G: 0.9436\n",
            "Epoch [24/50] Batch 0/1875                       Loss D: 0.7000, loss G: 0.7790\n",
            "Epoch [25/50] Batch 0/1875                       Loss D: 0.6180, loss G: 0.8282\n",
            "Epoch [26/50] Batch 0/1875                       Loss D: 0.6323, loss G: 0.8552\n",
            "Epoch [27/50] Batch 0/1875                       Loss D: 0.5563, loss G: 1.0841\n",
            "Epoch [28/50] Batch 0/1875                       Loss D: 0.6260, loss G: 0.9134\n",
            "Epoch [29/50] Batch 0/1875                       Loss D: 0.6139, loss G: 0.9357\n",
            "Epoch [30/50] Batch 0/1875                       Loss D: 0.5647, loss G: 1.0144\n",
            "Epoch [31/50] Batch 0/1875                       Loss D: 0.6614, loss G: 0.9169\n",
            "Epoch [32/50] Batch 0/1875                       Loss D: 0.7160, loss G: 0.9829\n",
            "Epoch [33/50] Batch 0/1875                       Loss D: 0.6179, loss G: 1.2622\n",
            "Epoch [34/50] Batch 0/1875                       Loss D: 0.6508, loss G: 0.8076\n",
            "Epoch [35/50] Batch 0/1875                       Loss D: 0.6423, loss G: 0.8923\n",
            "Epoch [36/50] Batch 0/1875                       Loss D: 0.7172, loss G: 0.7472\n",
            "Epoch [37/50] Batch 0/1875                       Loss D: 0.5599, loss G: 1.0949\n",
            "Epoch [38/50] Batch 0/1875                       Loss D: 0.4749, loss G: 1.1509\n",
            "Epoch [39/50] Batch 0/1875                       Loss D: 0.6470, loss G: 0.8623\n",
            "Epoch [40/50] Batch 0/1875                       Loss D: 0.6177, loss G: 0.8657\n",
            "Epoch [41/50] Batch 0/1875                       Loss D: 0.6762, loss G: 0.8064\n",
            "Epoch [42/50] Batch 0/1875                       Loss D: 0.6141, loss G: 0.9469\n",
            "Epoch [43/50] Batch 0/1875                       Loss D: 0.5801, loss G: 1.1784\n",
            "Epoch [44/50] Batch 0/1875                       Loss D: 0.6416, loss G: 0.8151\n",
            "Epoch [45/50] Batch 0/1875                       Loss D: 0.5383, loss G: 1.0590\n",
            "Epoch [46/50] Batch 0/1875                       Loss D: 0.6055, loss G: 0.8757\n",
            "Epoch [47/50] Batch 0/1875                       Loss D: 0.5195, loss G: 1.1246\n",
            "Epoch [48/50] Batch 0/1875                       Loss D: 0.7565, loss G: 1.1241\n",
            "Epoch [49/50] Batch 0/1875                       Loss D: 0.6170, loss G: 1.0414\n"
          ]
        }
      ]
    }
  ]
}